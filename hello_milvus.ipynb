{
 "cells": [
  {
   "cell_type": "code",
   "execution_count": 6,
   "metadata": {},
   "outputs": [],
   "source": [
    "from pymilvus import (\n",
    "    connections,\n",
    "    utility,\n",
    "    FieldSchema, CollectionSchema, DataType,\n",
    "    Collection,\n",
    ")\n",
    "import time\n",
    "\n",
    "import numpy as np"
   ]
  },
  {
   "cell_type": "code",
   "execution_count": 2,
   "metadata": {},
   "outputs": [],
   "source": [
    "fmt = \"\\n=== {:30} ===\\n\"\n",
    "search_latency_fmt = \"search latency = {:.4f}s\"\n",
    "num_entities, dim = 3000, 8"
   ]
  },
  {
   "cell_type": "markdown",
   "metadata": {},
   "source": [
    "# 1. connect to Milvus\n",
    "Add a new connection alias `default` for Milvus server in `localhost:19530`\\\n",
    "Actually the \"default\" alias is a buildin in PyMilvus.\\\n",
    "If the address of Milvus is the same as `localhost:19530`, you can omit all\\\n",
    "parameters and call the method as: `connections.connect()`.\n",
    "\n",
    "Note: the `using` parameter of the following methods is default to \"default\"."
   ]
  },
  {
   "cell_type": "code",
   "execution_count": 3,
   "metadata": {},
   "outputs": [
    {
     "name": "stdout",
     "output_type": "stream",
     "text": [
      "\n",
      "=== start connecting to Milvus     ===\n",
      "\n",
      "Does collection hello_milvus exist in Milvus: False\n"
     ]
    }
   ],
   "source": [
    "print(fmt.format(\"start connecting to Milvus\"))\n",
    "connections.connect(\"default\", host=\"localhost\", port=\"19530\")\n",
    "\n",
    "has = utility.has_collection(\"hello_milvus\")\n",
    "print(f\"Does collection hello_milvus exist in Milvus: {has}\")"
   ]
  },
  {
   "cell_type": "markdown",
   "metadata": {},
   "source": [
    "\n",
    "# 2. create collection\n",
    " We're going to create a collection with 3 fields.\n",
    " \n",
    "<table>\n",
    "    <tr>\n",
    "        <th></th>\n",
    "        <th>Field Name</th>\n",
    "        <th>Field Type</th>\n",
    "        <th>Other Attributes</th>\n",
    "        <th>Field Description</th>\n",
    "    </tr>\n",
    "    <tr>\n",
    "        <td>1</td>\n",
    "        <td>pk</td>\n",
    "        <td>VarChar</td>\n",
    "        <td>is_primary=True<br>auto_id=False</td>\n",
    "        <td>primary field</td>\n",
    "    </tr>\n",
    "    <tr>\n",
    "        <td>2</td>\n",
    "        <td>random</td>\n",
    "        <td>Double</td>\n",
    "        <td></td>\n",
    "        <td>a double field</td>\n",
    "    </tr>\n",
    "    <tr>\n",
    "        <td>3</td>\n",
    "        <td>embeddings</td>\n",
    "        <td>FloatVector</td>\n",
    "        <td>dim=8</td>\n",
    "        <td>float vector with dim 8</td>\n",
    "    </tr>\n",
    "</table>"
   ]
  },
  {
   "cell_type": "code",
   "execution_count": 5,
   "metadata": {},
   "outputs": [
    {
     "name": "stdout",
     "output_type": "stream",
     "text": [
      "\n",
      "=== Create collection `hello_milvus` ===\n",
      "\n"
     ]
    }
   ],
   "source": [
    "fields = [\n",
    "    FieldSchema(name=\"pk\", dtype=DataType.VARCHAR, is_primary=True, auto_id=False, max_length=100),\n",
    "    FieldSchema(name=\"random\", dtype=DataType.DOUBLE),\n",
    "    FieldSchema(name=\"embeddings\", dtype=DataType.FLOAT_VECTOR, dim=dim)\n",
    "]\n",
    "\n",
    "schema = CollectionSchema(fields, \"hello_milvus is the simplest demo to introduce the APIs\")\n",
    "\n",
    "print(fmt.format(\"Create collection `hello_milvus`\"))\n",
    "hello_milvus = Collection(\"hello_milvus\", schema, consistency_level=\"Strong\")"
   ]
  },
  {
   "cell_type": "markdown",
   "metadata": {},
   "source": [
    "\n",
    "# 3. insert data\n",
    "We are going to insert 3000 rows of data into `hello_milvus`\\\n",
    "Data to be inserted must be organized in fields.\n",
    "\n",
    "The insert() method returns:\n",
    "- either automatically generated primary keys by Milvus if auto_id=True in the schema;\n",
    "- or the existing primary key field from the entities if auto_id=False in the schema.\n"
   ]
  },
  {
   "cell_type": "code",
   "execution_count": 7,
   "metadata": {},
   "outputs": [
    {
     "name": "stdout",
     "output_type": "stream",
     "text": [
      "\n",
      "=== Start inserting entities       ===\n",
      "\n",
      "Number of entities in Milvus: 3000\n"
     ]
    }
   ],
   "source": [
    "print(fmt.format(\"Start inserting entities\"))\n",
    "rng = np.random.default_rng(seed=19530)\n",
    "entities = [\n",
    "    # provide the pk field because `auto_id` is set to False\n",
    "    [str(i) for i in range(num_entities)],\n",
    "    rng.random(num_entities).tolist(),  # field random, only supports list\n",
    "    rng.random((num_entities, dim)),    # field embeddings, supports numpy.ndarray and list\n",
    "]\n",
    "\n",
    "insert_result = hello_milvus.insert(entities)\n",
    "\n",
    "hello_milvus.flush()\n",
    "print(f\"Number of entities in Milvus: {hello_milvus.num_entities}\")  # check the num_entities\n"
   ]
  },
  {
   "cell_type": "markdown",
   "metadata": {},
   "source": [
    "# 4. create index\n",
    "We are going to create an IVF_FLAT index for hello_milvus collection.\\\n",
    "create_index() can only be applied to `FloatVector` and `BinaryVector` fields."
   ]
  },
  {
   "cell_type": "code",
   "execution_count": 9,
   "metadata": {},
   "outputs": [
    {
     "name": "stdout",
     "output_type": "stream",
     "text": [
      "\n",
      "=== Start Creating index IVF_FLAT  ===\n",
      "\n"
     ]
    },
    {
     "data": {
      "text/plain": [
       "Status(code=0, message=)"
      ]
     },
     "execution_count": 9,
     "metadata": {},
     "output_type": "execute_result"
    }
   ],
   "source": [
    "print(fmt.format(\"Start Creating index IVF_FLAT\"))\n",
    "index = {\n",
    "    \"index_type\": \"IVF_FLAT\",\n",
    "    \"metric_type\": \"L2\",\n",
    "    \"params\": {\"nlist\": 128},\n",
    "}\n",
    "\n",
    "hello_milvus.create_index(\"embeddings\", index)"
   ]
  },
  {
   "cell_type": "markdown",
   "metadata": {},
   "source": [
    "# 5. search, query, and hybrid search\n",
    "After data were inserted into Milvus and indexed, you can perform:\n",
    "- search based on vector similarity\n",
    "- query based on scalar filtering(boolean, int, etc.)\n",
    "- hybrid search based on vector similarity and scalar filtering."
   ]
  },
  {
   "cell_type": "code",
   "execution_count": 10,
   "metadata": {},
   "outputs": [
    {
     "name": "stdout",
     "output_type": "stream",
     "text": [
      "\n",
      "=== Start loading                  ===\n",
      "\n"
     ]
    }
   ],
   "source": [
    "# Before conducting a search or a query, you need to load the data in `hello_milvus` into memory.\n",
    "print(fmt.format(\"Start loading\"))\n",
    "hello_milvus.load()"
   ]
  },
  {
   "cell_type": "code",
   "execution_count": 13,
   "metadata": {},
   "outputs": [
    {
     "name": "stdout",
     "output_type": "stream",
     "text": [
      "\n",
      "=== Start searching based on vector similarity ===\n",
      "\n",
      "vector to search [[0.64756871 0.01197686 0.5924749  0.80828321 0.70348865 0.27177397\n",
      "  0.90567045 0.67848907]\n",
      " [0.31415601 0.15629844 0.85363175 0.77644426 0.0821534  0.07103991\n",
      "  0.25484217 0.46181565]]\n"
     ]
    }
   ],
   "source": [
    "# search based on vector similarity\n",
    "print(fmt.format(\"Start searching based on vector similarity\"))\n",
    "vectors_to_search = entities[-1][-2:]\n",
    "print(\"vector to search\",vectors_to_search)\n",
    "search_params = {\n",
    "    \"metric_type\": \"L2\",\n",
    "    \"params\": {\"nprobe\": 10},\n",
    "}"
   ]
  },
  {
   "cell_type": "code",
   "execution_count": 16,
   "metadata": {},
   "outputs": [
    {
     "name": "stdout",
     "output_type": "stream",
     "text": [
      "hit: id: 2998, distance: 0.0, entity: {'random': 0.9728033590489911}, random field: 0.9728033590489911\n",
      "hit: id: 1262, distance: 0.08883658051490784, entity: {'random': 0.2978858685751561}, random field: 0.2978858685751561\n",
      "hit: id: 1265, distance: 0.09590047597885132, entity: {'random': 0.3042039939240304}, random field: 0.3042039939240304\n",
      "hit: id: 2999, distance: 0.0, entity: {'random': 0.02316334456872482}, random field: 0.02316334456872482\n",
      "hit: id: 1580, distance: 0.05628090724349022, entity: {'random': 0.3855988746044062}, random field: 0.3855988746044062\n",
      "hit: id: 2377, distance: 0.08096685260534286, entity: {'random': 0.8745922204004368}, random field: 0.8745922204004368\n",
      "search latency = 0.3538s\n"
     ]
    }
   ],
   "source": [
    "start_time = time.time()\n",
    "result = hello_milvus.search(vectors_to_search, \"embeddings\", search_params, limit=3, output_fields=[\"random\"])\n",
    "end_time = time.time()\n",
    "for hits in result:\n",
    "    for hit in hits:\n",
    "        print(f\"hit: {hit}, random field: {hit.entity.get('random')}\")\n",
    "print(search_latency_fmt.format(end_time - start_time))"
   ]
  },
  {
   "cell_type": "code",
   "execution_count": 18,
   "metadata": {},
   "outputs": [
    {
     "name": "stdout",
     "output_type": "stream",
     "text": [
      "\n",
      "=== Start querying with `random > 0.5` ===\n",
      "\n",
      "query result:\n",
      "-{'random': 0.6378742006852851, 'embeddings': [0.20963514, 0.39746657, 0.12019053, 0.6947492, 0.9535575, 0.5454552, 0.82360446, 0.21096309], 'pk': '0'}\n",
      "search latency = 0.2977s\n"
     ]
    }
   ],
   "source": [
    "# query based on scalar filtering(boolean, int, etc.)\n",
    "print(fmt.format(\"Start querying with `random > 0.5`\"))\n",
    "\n",
    "start_time = time.time()\n",
    "result = hello_milvus.query(expr=\"random > 0.5\", output_fields=[\"random\", \"embeddings\"])\n",
    "end_time = time.time()\n",
    "\n",
    "print(f\"query result:\\n-{result[0]}\")\n",
    "print(search_latency_fmt.format(end_time - start_time))"
   ]
  },
  {
   "cell_type": "code",
   "execution_count": 19,
   "metadata": {},
   "outputs": [
    {
     "name": "stdout",
     "output_type": "stream",
     "text": [
      "query pagination(limit=4):\n",
      "\t[{'random': 0.6378742006852851, 'pk': '0'}, {'random': 0.5763523024650556, 'pk': '100'}, {'random': 0.9425935891639464, 'pk': '1000'}, {'random': 0.7893211256191387, 'pk': '1001'}]\n",
      "query pagination(offset=1, limit=3):\n",
      "\t[{'random': 0.5763523024650556, 'pk': '100'}, {'random': 0.9425935891639464, 'pk': '1000'}, {'random': 0.7893211256191387, 'pk': '1001'}]\n"
     ]
    }
   ],
   "source": [
    "# pagination\n",
    "r1 = hello_milvus.query(expr=\"random > 0.5\", limit=4, output_fields=[\"random\"])\n",
    "r2 = hello_milvus.query(expr=\"random > 0.5\", offset=1, limit=3, output_fields=[\"random\"])\n",
    "print(f\"query pagination(limit=4):\\n\\t{r1}\")\n",
    "print(f\"query pagination(offset=1, limit=3):\\n\\t{r2}\")\n",
    "\n"
   ]
  },
  {
   "cell_type": "code",
   "execution_count": 20,
   "metadata": {},
   "outputs": [
    {
     "name": "stdout",
     "output_type": "stream",
     "text": [
      "\n",
      "=== Start hybrid searching with `random > 0.5` ===\n",
      "\n",
      "hit: id: 2998, distance: 0.0, entity: {'random': 0.9728033590489911}, random field: 0.9728033590489911\n",
      "hit: id: 747, distance: 0.14606499671936035, entity: {'random': 0.5648774800635661}, random field: 0.5648774800635661\n",
      "hit: id: 2527, distance: 0.1530652642250061, entity: {'random': 0.8928974315571507}, random field: 0.8928974315571507\n",
      "hit: id: 2377, distance: 0.08096685260534286, entity: {'random': 0.8745922204004368}, random field: 0.8745922204004368\n",
      "hit: id: 2034, distance: 0.20354536175727844, entity: {'random': 0.5526117606328499}, random field: 0.5526117606328499\n",
      "hit: id: 958, distance: 0.21908017992973328, entity: {'random': 0.6647383716417955}, random field: 0.6647383716417955\n",
      "search latency = 0.2549s\n"
     ]
    }
   ],
   "source": [
    "# hybrid search\n",
    "print(fmt.format(\"Start hybrid searching with `random > 0.5`\"))\n",
    "\n",
    "start_time = time.time()\n",
    "result = hello_milvus.search(vectors_to_search, \"embeddings\", search_params, limit=3, expr=\"random > 0.5\", output_fields=[\"random\"])\n",
    "end_time = time.time()\n",
    "\n",
    "for hits in result:\n",
    "    for hit in hits:\n",
    "        print(f\"hit: {hit}, random field: {hit.entity.get('random')}\")\n",
    "print(search_latency_fmt.format(end_time - start_time))"
   ]
  },
  {
   "cell_type": "markdown",
   "metadata": {},
   "source": [
    "# 6. delete entities by PK\n",
    "You can delete entities by their PK values using boolean expressions."
   ]
  },
  {
   "cell_type": "code",
   "execution_count": 21,
   "metadata": {},
   "outputs": [
    {
     "name": "stdout",
     "output_type": "stream",
     "text": [
      "\n",
      "=== Start deleting with expr `pk in [\"0\" , \"1\"]` ===\n",
      "\n",
      "query before delete by expr=`pk in [\"0\" , \"1\"]` -> result: \n",
      "-{'random': 0.6378742006852851, 'embeddings': [0.20963514, 0.39746657, 0.12019053, 0.6947492, 0.9535575, 0.5454552, 0.82360446, 0.21096309], 'pk': '0'}\n",
      "-{'random': 0.43925103574669633, 'embeddings': [0.52323616, 0.8035404, 0.77824664, 0.80369574, 0.4914803, 0.8265614, 0.6145269, 0.80234545], 'pk': '1'}\n",
      "\n",
      "query after delete by expr=`pk in [\"0\" , \"1\"]` -> result: []\n",
      "\n"
     ]
    }
   ],
   "source": [
    "\n",
    "ids = insert_result.primary_keys\n",
    "\n",
    "expr = f'pk in [\"{ids[0]}\" , \"{ids[1]}\"]'\n",
    "print(fmt.format(f\"Start deleting with expr `{expr}`\"))\n",
    "\n",
    "result = hello_milvus.query(expr=expr, output_fields=[\"random\", \"embeddings\"])\n",
    "print(f\"query before delete by expr=`{expr}` -> result: \\n-{result[0]}\\n-{result[1]}\\n\")\n",
    "\n",
    "hello_milvus.delete(expr)\n",
    "\n",
    "result = hello_milvus.query(expr=expr, output_fields=[\"random\", \"embeddings\"])\n",
    "print(f\"query after delete by expr=`{expr}` -> result: {result}\\n\")\n"
   ]
  },
  {
   "cell_type": "markdown",
   "metadata": {},
   "source": [
    "# 7. drop collection"
   ]
  },
  {
   "cell_type": "code",
   "execution_count": 23,
   "metadata": {},
   "outputs": [
    {
     "name": "stdout",
     "output_type": "stream",
     "text": [
      "\n",
      "=== Drop collection `hello_milvus` ===\n",
      "\n"
     ]
    }
   ],
   "source": [
    "# Finally, drop the hello_milvus collection\n",
    "print(fmt.format(\"Drop collection `hello_milvus`\"))\n",
    "utility.drop_collection(\"hello_milvus\")"
   ]
  },
  {
   "cell_type": "code",
   "execution_count": null,
   "metadata": {},
   "outputs": [],
   "source": []
  }
 ],
 "metadata": {
  "kernelspec": {
   "display_name": "ML-env",
   "language": "python",
   "name": "python3"
  },
  "language_info": {
   "codemirror_mode": {
    "name": "ipython",
    "version": 3
   },
   "file_extension": ".py",
   "mimetype": "text/x-python",
   "name": "python",
   "nbconvert_exporter": "python",
   "pygments_lexer": "ipython3",
   "version": "3.11.4"
  }
 },
 "nbformat": 4,
 "nbformat_minor": 2
}
